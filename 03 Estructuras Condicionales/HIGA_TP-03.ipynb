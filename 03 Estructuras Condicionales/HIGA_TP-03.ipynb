{
 "cells": [
  {
   "cell_type": "markdown",
   "metadata": {},
   "source": [
    "**1)** Escribir un programa que solicite la edad del usuario. Si el usuario es mayor de 18 años, deberá mostrar un mensaje en pantalla que diga “Es mayor de edad”."
   ]
  },
  {
   "cell_type": "code",
   "execution_count": null,
   "metadata": {},
   "outputs": [],
   "source": [
    "age = int(input(\"Ingresa tu edad: \"))\n",
    "\n",
    "if age >= 18:\n",
    "    print(\"Es mayor de edad\")"
   ]
  },
  {
   "cell_type": "markdown",
   "metadata": {},
   "source": [
    "**2)** Escribir un programa que solicite su nota al usuario. Si la nota es mayor o igual a 6, deberá mostrar por pantalla un mensaje que diga “Aprobado”; en caso contrario deberá mostrar el mensaje “Desaprobado”."
   ]
  },
  {
   "cell_type": "code",
   "execution_count": null,
   "metadata": {},
   "outputs": [],
   "source": [
    "nota = int(input(\"Ingresa tu nota: \"))\n",
    "\n",
    "if nota >= 6:\n",
    "    print(\"Aprobado\")\n",
    "else:\n",
    "    print(\"Desaprobado\")"
   ]
  },
  {
   "cell_type": "markdown",
   "metadata": {},
   "source": [
    "**3)** Escribir un programa que permita ingresar solo números pares. Si el usuario ingresa un número par, imprimir por en pantalla el mensaje \"Ha ingresado un número par\"; en caso contrario, imprimir por pantalla \"Por favor, ingrese un número par\". Nota: investigar el uso del operador de módulo (%) en Python para evaluar si un número es par o impar."
   ]
  },
  {
   "cell_type": "code",
   "execution_count": null,
   "metadata": {},
   "outputs": [],
   "source": [
    "num = int(input(\"Ingresa un número par: \"))\n",
    "\n",
    "if num % 2 == 0:\n",
    "    print(f\"Ha ingresado un número par: {num}\")\n",
    "else:\n",
    "    print(f\"{num} no es un número par. Por favor, ingresa un número par.\")"
   ]
  },
  {
   "cell_type": "markdown",
   "metadata": {},
   "source": [
    "**4)** Escribir un programa que solicite al usuario su edad e imprima por pantalla a cuál de las  \n",
    "siguientes categorías pertenece:  \n",
    "- **Niño/a:** menor de 12 años.  \n",
    "- **Adolescente:** mayor o igual que 12 años y menor que 18 años.  \n",
    "- **Adulto/a joven:** mayor o igual que 18 años y menor que 30 años.  \n",
    "- **Adulto/a:** mayor o igual que 30 años."
   ]
  },
  {
   "cell_type": "code",
   "execution_count": null,
   "metadata": {},
   "outputs": [],
   "source": [
    "age = int(input(\"Ingresa tu edad, por favor: \"))\n",
    "\n",
    "if 12 > age > 0:\n",
    "    print(f\"Tienes {age} años, eres un/a niño/a.\")\n",
    "elif 18 > age >= 12:\n",
    "    print(f\"Tienes {age} años, eres un/a adolescente.\")\n",
    "elif 30 > age >= 18:\n",
    "    print(f\"Tienes {age} años, eres un adulto joven.\")\n",
    "elif age >= 30:\n",
    "    print(f\"Tienes {age} años, eres un adulto.\")\n",
    "else:\n",
    "    print(f\"Has ingresado una edad incorrecta ({age})\")"
   ]
  },
  {
   "cell_type": "markdown",
   "metadata": {},
   "source": [
    "**5)** Escribir un programa que permita introducir contraseñas de entre 8 y 14 caracteres (incluyendo 8 y 14). Si el usuario ingresa una contraseña de longitud adecuada, imprimir por en\n",
    "pantalla el mensaje \"Ha ingresado una contraseña correcta\"; en caso contrario, imprimir por pantalla \"Por favor, ingrese una contraseña de entre 8 y 14 caracteres\". Nota: investigue el uso\n",
    "de la función len() en Python para evaluar la cantidad de elementos que tiene un iterable tal como una lista o un string."
   ]
  },
  {
   "cell_type": "code",
   "execution_count": null,
   "metadata": {},
   "outputs": [],
   "source": [
    "clave = input(\"Introduce tu nueva contraseña: \")\n",
    "\n",
    "if 14 >= len(clave) >= 8:\n",
    "    print(\"Ha ingresado una contraseña correcta.\")\n",
    "else:\n",
    "    print(f\"La contraseña ingresada tiene {len(clave)} caracteres. Por favor, ingrese una contraseña de entre 8 y 14 caracteres.\")"
   ]
  },
  {
   "cell_type": "markdown",
   "metadata": {},
   "source": [
    "**6)** El paquete statistics de python contiene funciones que permiten tomar una lista de números y calcular la moda, la mediana y la media de dichos números. Un ejemplo de su uso es el siguiente:\n",
    "```\n",
    "from statistics import mode, median, mean\n",
    "mi_lista = [1,2,5,5,3]\n",
    "mean(mi_lista)\n",
    "```\n",
    "En la documentación oficial se puede encontrar más información sobre este paquete:\n",
    "https://docs.python.org/es/3.8/library/statistics.html.\n",
    "La moda (mode), la mediana (median) y la media (mean) son parámetros estadísticos que se pueden utilizar para predecir la forma de una distribución normal a partir del siguiente criterio:\n",
    "- Sesgo positivo o a la derecha: cuando la media es mayor que la mediana y, a su vez, la\n",
    "mediana es mayor que la moda.\n",
    "- Sesgo negativo o a la izquierda: cuando la media es menor que la mediana y, a su vez,\n",
    "la mediana es menor que la moda.\n",
    "- Sin sesgo: cuando la media, la mediana y la moda son iguales.\n",
    "\n",
    "Teniendo en cuenta lo antes mencionado, escribir un programa que tome la lista numeros_aleatorios, calcule su moda, su mediana y su media y las compare para determinar si hay sesgo positivo, negativo o no hay sesgo. Imprimir el resultado por pantalla.\n",
    "\n",
    "Definir la lista numeros_aleatorios de la siguiente forma:\n",
    "```\n",
    "import random\n",
    "numeros_aleatorios = [random.randint(1, 100) for i in range(50)]\n",
    "```\n",
    "Nota: el bloque de código anterior crea una lista con 50 números entre 1 y 100 elegidos de forma aleatoria."
   ]
  },
  {
   "cell_type": "code",
   "execution_count": null,
   "metadata": {},
   "outputs": [],
   "source": [
    "from statistics import mode, median, mean\n",
    "import random\n",
    "\n",
    "numeros_aleatorios = [random.randint(1, 100) for i in range(10)]\n",
    "\n",
    "# print(numeros_aleatorios)\n",
    "\n",
    "moda = mode(numeros_aleatorios)\n",
    "mediana = median(numeros_aleatorios)\n",
    "media = mean(numeros_aleatorios)\n",
    "\n",
    "if media > mediana > moda:\n",
    "    print(\"Hay sesgo positivo o a la derecha.\")\n",
    "elif media < mediana < moda:\n",
    "    print(\"Hay sesgo negativo o a la izquierda.\")\n",
    "elif media == mediana == moda:\n",
    "    print(\"Sin sesgo\")\n",
    "else:\n",
    "    print(\"La distribución de datos no sigue un patrón definido.\")"
   ]
  },
  {
   "cell_type": "markdown",
   "metadata": {},
   "source": [
    "**7)** Escribir un programa que solicite una frase o palabra al usuario. Si el string ingresado\n",
    "termina con vocal, añadir un signo de exclamación al final e imprimir el string resultante por\n",
    "pantalla; en caso contrario, dejar el string tal cual lo ingresó el usuario e imprimirlo por\n",
    "pantalla."
   ]
  },
  {
   "cell_type": "code",
   "execution_count": null,
   "metadata": {},
   "outputs": [],
   "source": [
    "frase = input(\"Ingresa una frase o palabra: \")\n",
    "\n",
    "vocales = [\"a\", \"i\", \"u\", \"e\", \"o\", \"A\", \"I\", \"U\", \"E\", \"O\"]\n",
    "\n",
    "if frase[-1] in vocales:\n",
    "    print(frase + \"!\")\n",
    "else:\n",
    "    print(frase)"
   ]
  },
  {
   "cell_type": "markdown",
   "metadata": {},
   "source": [
    "**8)** Escribir un programa que solicite al usuario que ingrese su nombre y el número 1, 2 o 3\n",
    "dependiendo de la opción que desee:\n",
    "1. Si quiere su nombre en mayúsculas. Por ejemplo: PEDRO.\n",
    "2. Si quiere su nombre en minúsculas. Por ejemplo: pedro.\n",
    "3. Si quiere su nombre con la primera letra mayúscula. Por ejemplo: Pedro.\n",
    "\n",
    "El programa debe transformar el nombre ingresado de acuerdo a la opción seleccionada por el usuario e imprimir el resultado por pantalla. Nota: investigue uso de las funciones `upper()`,\n",
    "`lower()` y `title()` de Python para convertir entre mayúsculas y minúsculas."
   ]
  },
  {
   "cell_type": "code",
   "execution_count": null,
   "metadata": {},
   "outputs": [],
   "source": [
    "name = input(\"Ingresa tu nombre: \")\n",
    "opcion = int(input(\"Ingresa un número según la opción deseada: 1 (mayúsculas) | 2 (minúsculas) | 3 (1era letra en mayúscula): \"))\n",
    "\n",
    "if opcion == 1:\n",
    "    print(name.upper())\n",
    "elif opcion == 2:\n",
    "    print(name.lower())\n",
    "elif opcion == 3:\n",
    "    print(name.title())\n",
    "else:\n",
    "    print(f\"La opción ingresada ({opcion}) es incorrecta.\")\n"
   ]
  },
  {
   "cell_type": "markdown",
   "metadata": {},
   "source": [
    "**9)** Escribir un programa que pida al usuario la magnitud de un terremoto, clasifique la\n",
    "magnitud en una de las siguientes categorías según la escala de Richter e imprima el resultado\n",
    "por pantalla:\n",
    "- **Menor que 3:** \"Muy leve\" (imperceptible).\n",
    "- **Mayor o igual que 3 y menor que 4:** \"Leve\" (ligeramente perceptible).\n",
    "- **Mayor o igual que 4 y menor que 5:** \"Moderado\" (sentido por personas, pero generalmente no causa daños).\n",
    "- **Mayor o igual que 5 y menor que 6:** \"Fuerte\" (puede causar daños en estructuras débiles).\n",
    "- **Mayor o igual que 6 y menor que 7:** \"Muy Fuerte\" (puede causar daños significativos).\n",
    "- **Mayor o igual que 7:** \"Extremo\" (puede causar graves daños a gran escala)."
   ]
  },
  {
   "cell_type": "code",
   "execution_count": 87,
   "metadata": {},
   "outputs": [
    {
     "name": "stdout",
     "output_type": "stream",
     "text": [
      "Muy leve\n"
     ]
    }
   ],
   "source": [
    "magnitud = int(input(\"Ingresa la magnitud del terremoto: \"))\n",
    "\n",
    "if 3 > magnitud > 0:\n",
    "    print(\"Muy leve\")\n",
    "elif 4 > magnitud >= 3:\n",
    "    print(\"Leve\")\n",
    "elif 5 > magnitud >= 4:\n",
    "    print(\"Moderado\")\n",
    "elif 6 > magnitud >= 5:\n",
    "    print(\"Fuerte\")\n",
    "elif 7 > magnitud >= 6:\n",
    "    print(\"Muy fuerte\") \n",
    "elif magnitud >= 7:\n",
    "    print(\"Extremo\")\n",
    "else: \n",
    "    print(\"El valor ingresado es incorrecto.\")"
   ]
  },
  {
   "cell_type": "markdown",
   "metadata": {},
   "source": [
    "**10.** Utilizando la información aportada en la siguiente tabla sobre las estaciones del año\n",
    "\n",
    "| Periodo del año | Estación en el hemisferio norte | Estación en el hemisferio sur |\n",
    "| --- | --- | --- |\n",
    "| Desde el 21 de diciembre hasta el 20 de marzo (incluidos) | Invierno | Verano |\n",
    "| Desde el 21 de marzo hasta el 20 de junio (incluidos) | Primavera | Otoño |\n",
    "| Desde el 21 de junio hasta el 20 de septiembre (incluidos) | Verano | Invierno |\n",
    "| Desde el 21 de septiembre hasta el 20 de diciembre (incluidos) | Otoño | Primavera |\n",
    "\n",
    "Escribir un programa que pregunte al usuario en cuál hemisferio se encuentra (N/S), qué mes del año es y qué día es. El programa deberá utilizar esa información para imprimir por pantalla si el usuario se encuentra en otoño, invierno, primavera o verano."
   ]
  },
  {
   "cell_type": "code",
   "execution_count": null,
   "metadata": {},
   "outputs": [],
   "source": [
    "hemisferio = input(\"En qué hemisferio te encontrás? Indica letra según la opción correcta (N: Hemisferio Norte | S: Hemisferio Sur)\").upper()\n",
    "mes = int(input(\"Ingresa número según el mes del año (1: Enero, 2: Febrero, etc): \"))\n",
    "dia = int(input(\"Ingresa el día (en número): \"))\n",
    "\n",
    "if (hemisferio != \"N\" and hemisferio != \"S\" ) or not (1 <= mes <= 12) or not (13 >= dia >= 1):   # validamos que el usuario ingrese datos correctos \n",
    "    print(\"Has ingresado datos incorrectos.\")\n",
    "else:\n",
    "    # periodo 1: Desde el 21 de diciembre hasta el 20 de marzo (incluidos)\n",
    "    if (dia >= 21 and mes == 12) or (dia <= 20 and 1 >= mes >= 3):  # (si es diciembre y dia mayor a 21), o (mes entre 1 y 3, y dia menor o igual a 20)\n",
    "        if hemisferio == \"N\":\n",
    "            estacion = \"Invierno\"\n",
    "        else:\n",
    "            estacion =  \"Verano\"\n",
    "    # periodo 2: Desde el 21 de marzo hasta el 20 de junio (incluidos)\n",
    "    elif (dia >= 21 and mes == 3) or (dia <= 20 and 4 >= mes >= 6):  # (si es marzo y dia mayor a 21), o (mes entre 4 y 6, y dia menor o igual a 20) \n",
    "        if hemisferio == \"N\":\n",
    "            estacion =  \"Primavera\"\n",
    "        else:\n",
    "            estacion =  \"Otoño\"\n",
    "    # periodo 3: Desde el 21 de junio hasta el 20 de septiembre (incluidos)\n",
    "    elif (dia >= 21 and mes == 6) or (dia <= 20 and 7 >= mes >= 9):  # (si es junio y dia mayor a 21), o (mes entre 7 y 9, y dia menor o igual a 20) \n",
    "        if hemisferio == \"N\":\n",
    "            estacion =  \"Verano\"\n",
    "        else:\n",
    "            estacion =  \"Invierno\"    \n",
    "    # periodo 3: Desde el 21 de septiembre hasta el 20 de diciembre (incluidos)\n",
    "    elif (dia >= 21 and mes == 9) or (dia <= 20 and 7 >= mes >= 12):  # (si es septiembre y dia mayor a 21), o (mes entre 9 y 12, y dia menor o igual a 20) \n",
    "        if hemisferio == \"N\":\n",
    "            estacion =  \"Otoño\"\n",
    "        else:\n",
    "            estacion =  \"Primavera\" \n",
    "    print(f\"Fecha: {dia}/{mes}, Hemisferio: {hemisferio}: Actualmente es {estacion}.\")"
   ]
  }
 ],
 "metadata": {
  "kernelspec": {
   "display_name": "Python 3",
   "language": "python",
   "name": "python3"
  },
  "language_info": {
   "codemirror_mode": {
    "name": "ipython",
    "version": 3
   },
   "file_extension": ".py",
   "mimetype": "text/x-python",
   "name": "python",
   "nbconvert_exporter": "python",
   "pygments_lexer": "ipython3",
   "version": "3.11.9"
  }
 },
 "nbformat": 4,
 "nbformat_minor": 2
}
