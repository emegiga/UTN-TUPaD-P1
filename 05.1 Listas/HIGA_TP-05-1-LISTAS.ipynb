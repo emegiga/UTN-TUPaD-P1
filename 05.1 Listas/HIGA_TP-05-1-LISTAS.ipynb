{
 "cells": [
  {
   "cell_type": "markdown",
   "metadata": {},
   "source": [
    "**Práctico 5: Listas**"
   ]
  },
  {
   "cell_type": "markdown",
   "metadata": {},
   "source": [
    "**1)** Crear una lista con los números del 1 al 100 que sean múltiplos de 4. Utilizar la función range."
   ]
  },
  {
   "cell_type": "code",
   "execution_count": 7,
   "metadata": {},
   "outputs": [
    {
     "name": "stdout",
     "output_type": "stream",
     "text": [
      "[4, 8, 12, 16, 20, 24, 28, 32, 36, 40, 44, 48, 52, 56, 60, 64, 68, 72, 76, 80, 84, 88, 92, 96, 100]\n"
     ]
    }
   ],
   "source": [
    "lista = list(range(4,101,4))\n",
    "print(lista)"
   ]
  },
  {
   "cell_type": "markdown",
   "metadata": {},
   "source": [
    "**2)** Crear una lista con cinco elementos (colocar los elementos que más te gusten) y mostrar el penúltimo. ¡Puedes hacerlo como se muestra en los videos o bien investigar cómo funciona el\n",
    "indexing con números negativos!"
   ]
  },
  {
   "cell_type": "code",
   "execution_count": null,
   "metadata": {},
   "outputs": [
    {
     "name": "stdout",
     "output_type": "stream",
     "text": [
      "botella\n",
      "botella\n"
     ]
    }
   ],
   "source": [
    "lista = [\"mate\", \"gata\", \"auriculares\", \"botella\", \"taza\"]\n",
    "\n",
    "# Opcion 1: Imprimiendo la posición\n",
    "print(lista[3])\n",
    "\n",
    "# Opción 2: Imprimiendo el valor según la posición en rango negativo\n",
    "print(lista[-2])\n"
   ]
  },
  {
   "cell_type": "markdown",
   "metadata": {},
   "source": [
    "**3)** Crear una lista vacía, agregar tres palabras con append e imprimir la lista resultante por pantalla. Pista: para crear una lista vacía debes colocar los corchetes sin nada en su interior. Por ejemplo: lista_vacia = []"
   ]
  },
  {
   "cell_type": "code",
   "execution_count": 10,
   "metadata": {},
   "outputs": [
    {
     "name": "stdout",
     "output_type": "stream",
     "text": [
      "['CD', 'Cassette', 'Vinilo']\n"
     ]
    }
   ],
   "source": [
    "lista_vacia = []\n",
    "\n",
    "lista_vacia.append(\"CD\")\n",
    "lista_vacia.append(\"Cassette\")\n",
    "lista_vacia.append(\"Vinilo\")\n",
    "\n",
    "print(lista_vacia)"
   ]
  },
  {
   "cell_type": "markdown",
   "metadata": {},
   "source": [
    "**4)** Reemplazar el segundo y último valor de la lista “animales” con las palabras “loro” y “oso”, respectivamente. Imprimir la lista resultante por pantalla. ¡Puedes hacerlo como se muestra\n",
    "en los videos o bien investigar cómo funciona el indexing con números negativos! \n",
    "\n",
    "animales = [\"perro\", \"gato\", \"conejo\", \"pez\"]"
   ]
  },
  {
   "cell_type": "code",
   "execution_count": 11,
   "metadata": {},
   "outputs": [
    {
     "name": "stdout",
     "output_type": "stream",
     "text": [
      "['perro', 'loro', 'conejo', 'oso']\n"
     ]
    }
   ],
   "source": [
    "animales = [\"perro\", \"gato\", \"conejo\", \"pez\"]\n",
    "\n",
    "animales[1]=\"loro\"\n",
    "animales[-1]=\"oso\"\n",
    "\n",
    "print(animales)"
   ]
  },
  {
   "attachments": {
    "image.png": {
     "image/png": "[encoded data removed]"
    }
   },
   "cell_type": "markdown",
   "metadata": {},
   "source": [
    "**5)** Analizar el siguiente programa y explicar con tus palabras qué es lo que realiza.\n",
    "\n",
    "![image.png](attachment:image.png)"
   ]
  },
  {
   "cell_type": "markdown",
   "metadata": {},
   "source": [
    "La función **max** devuelve el valor más alto, en el caso de la lista \"numeros\" es 22.\n",
    "\n",
    "Por lo tanto, el método **remove** elimina el valor más alto en la lista \"numeros\", quedando dicha lista de la siguiente manera: **numeros = [8,15,3,7]**\n"
   ]
  },
  {
   "cell_type": "markdown",
   "metadata": {},
   "source": [
    "**6)** Crear una lista con números del 10 al 30 (incluído), haciendo saltos de 5 en 5 y mostrar por pantalla los dos primeros."
   ]
  },
  {
   "cell_type": "code",
   "execution_count": 15,
   "metadata": {},
   "outputs": [
    {
     "name": "stdout",
     "output_type": "stream",
     "text": [
      "[10, 15]\n"
     ]
    }
   ],
   "source": [
    "lista = list(range(10,31,5))\n",
    "\n",
    "print(lista[:2])"
   ]
  },
  {
   "cell_type": "markdown",
   "metadata": {},
   "source": [
    "**7)** Reemplazar los dos valores centrales (índices 1 y 2) de la lista “autos” por dos nuevos valores cualesquiera.\n",
    "\n",
    "autos = [\"sedan\", \"polo\", \"suran\", \"gol\"]"
   ]
  },
  {
   "cell_type": "code",
   "execution_count": 16,
   "metadata": {},
   "outputs": [
    {
     "name": "stdout",
     "output_type": "stream",
     "text": [
      "['sedan', 'golf', 'up', 'gol']\n"
     ]
    }
   ],
   "source": [
    "autos = [\"sedan\", \"polo\", \"suran\", \"gol\"]\n",
    "\n",
    "autos[1] = \"golf\"\n",
    "autos[2] = \"up\"\n",
    "\n",
    "print(autos)"
   ]
  },
  {
   "cell_type": "markdown",
   "metadata": {},
   "source": [
    "**8)** Crear una lista vacía llamada \"dobles\" y agregar el doble de 5, 10 y 15 usando append directamente. Imprimir la lista resultante por pantalla."
   ]
  },
  {
   "cell_type": "code",
   "execution_count": 17,
   "metadata": {},
   "outputs": [
    {
     "name": "stdout",
     "output_type": "stream",
     "text": [
      "[10, 20, 30]\n"
     ]
    }
   ],
   "source": [
    "dobles=[]\n",
    "\n",
    "dobles.append(5*2)\n",
    "dobles.append(10*2)\n",
    "dobles.append(15*2)\n",
    "\n",
    "print(dobles)"
   ]
  },
  {
   "cell_type": "markdown",
   "metadata": {},
   "source": [
    "**9)** Dada la lista “compras”, cuyos elementos representan los productos comprados por diferentes clientes:\n",
    "\n",
    "\n",
    "compras = [[\"pan\", \"leche\"], [\"arroz\", \"fideos\", \"salsa\"], [\"agua\"]]\n",
    "\n",
    "a) Agregar \"jugo\" a la lista del tercer cliente usando append.\n",
    "\n",
    "b) Reemplazar \"fideos\" por \"tallarines\" en la lista del segundo cliente.\n",
    "\n",
    "c) Eliminar \"pan\" de la lista del primer cliente.\n",
    "\n",
    "d) Imprimir la lista resultante por pantalla"
   ]
  },
  {
   "cell_type": "code",
   "execution_count": 21,
   "metadata": {},
   "outputs": [
    {
     "name": "stdout",
     "output_type": "stream",
     "text": [
      "[['leche'], ['arroz', 'tallarines', 'salsa'], ['agua', 'jugo']]\n"
     ]
    }
   ],
   "source": [
    "compras = [[\"pan\", \"leche\"], [\"arroz\", \"fideos\", \"salsa\"], [\"agua\"]]\n",
    "\n",
    "# agregamos jugo a la lista del 3er cliente\n",
    "compras[2].append(\"jugo\")\n",
    "\n",
    "# reemplazamos fideos por tallarines en la lista del 2do cliente\n",
    "compras[1][1]=\"tallarines\"\n",
    "\n",
    "# eliminamos pan de la lista del 1er cliente\n",
    "compras[0].remove(\"pan\")\n",
    "\n",
    "print(compras)"
   ]
  },
  {
   "cell_type": "markdown",
   "metadata": {},
   "source": [
    "**10.** Elaborar una lista anidada llamada “lista_anidada” que contenga los siguientes elementos:\n",
    "\n",
    "● Posición lista_anidada[0]: 15\n",
    "\n",
    "● Posición lista_anidada[1]: True\n",
    "\n",
    "● Posición lista_anidada[2][0]: 25.5\n",
    "\n",
    "● Posición lista_anidada[2][1]: 57.9\n",
    "\n",
    "● Posición lista_anidada[2][2]: 30.6\n",
    "\n",
    "● Posición lista_anidada[3]: False\n",
    "\n",
    "Imprimir la lista resultante por pantalla."
   ]
  },
  {
   "cell_type": "code",
   "execution_count": 29,
   "metadata": {},
   "outputs": [
    {
     "name": "stdout",
     "output_type": "stream",
     "text": [
      "[15, True, [25.5, 57.9, 30.6], False]\n"
     ]
    }
   ],
   "source": [
    "lista_anidada=[]\n",
    "\n",
    "# añadimos los 2 1eros valores a la lista vacía\n",
    "lista_anidada.append(15)\n",
    "lista_anidada.append(True)\n",
    "\n",
    "# el 3er valor es una lista anidada, con lo cual podemos ingresarla entera, o bien ingresar su primer valor y luego el resto:\n",
    "lista_anidada.append([25.5])\n",
    "lista_anidada[2].append(57.9)\n",
    "lista_anidada[2].append(30.6)\n",
    "\n",
    "# por ultimo, ingresamos el 3er y ultimo valor a la lista\n",
    "lista_anidada.append(False)\n",
    "\n",
    "print(lista_anidada)"
   ]
  }
 ],
 "metadata": {
  "kernelspec": {
   "display_name": "Python 3",
   "language": "python",
   "name": "python3"
  },
  "language_info": {
   "codemirror_mode": {
    "name": "ipython",
    "version": 3
   },
   "file_extension": ".py",
   "mimetype": "text/x-python",
   "name": "python",
   "nbconvert_exporter": "python",
   "pygments_lexer": "ipython3",
   "version": "3.11.9"
  }
 },
 "nbformat": 4,
 "nbformat_minor": 2
}
