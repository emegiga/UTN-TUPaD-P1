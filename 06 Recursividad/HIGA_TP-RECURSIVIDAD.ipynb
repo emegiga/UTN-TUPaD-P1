{
 "cells": [
  {
   "cell_type": "markdown",
   "metadata": {},
   "source": [
    "**Práctico 11: Aplicación de la Recursividad**"
   ]
  },
  {
   "cell_type": "markdown",
   "metadata": {},
   "source": [
    "**1)** Crea una función recursiva que calcule el factorial de un número. Luego, utiliza esa función para calcular y mostrar en pantalla el factorial de todos los números enteros entre 1 y el número que indique el usuario."
   ]
  },
  {
   "cell_type": "code",
   "execution_count": 2,
   "metadata": {},
   "outputs": [
    {
     "name": "stdout",
     "output_type": "stream",
     "text": [
      "120\n"
     ]
    }
   ],
   "source": [
    "def factorial(num):\n",
    "    if num == 0:\n",
    "        return 1\n",
    "    else:\n",
    "        return num * factorial(num - 1)\n",
    "    \n",
    "user_num = int(input(\"Ingresa un número entero positivo: \"))\n",
    "\n",
    "print(factorial(user_num))"
   ]
  },
  {
   "cell_type": "markdown",
   "metadata": {},
   "source": [
    "**2)** Crea una función recursiva que calcule el valor de la serie de Fibonacci en la posición indicada. Posteriormente, muestra la serie completa hasta la posición que el usuario especifique."
   ]
  },
  {
   "cell_type": "code",
   "execution_count": null,
   "metadata": {},
   "outputs": [],
   "source": [
    "def fibonacci(num):\n",
    "    if num == 0 or num == 1:\n",
    "        return num\n",
    "    else:\n",
    "        return fibonacci(num - 1) + fibonacci(num - 2)\n",
    "    \n",
    "user_num = int(input(\"Ingresa la posición para calcular su valor de la serie de Fibonacci: \"))\n",
    "print(f\"Dada la posición nro {user_num}, su valor en la serie de Fibonacci es {fibonacci(user_num)}.\")\n",
    "\n",
    "def mostrar_serie(num):\n",
    "    if num >= 0:\n",
    "        mostrar_serie(num - 1)\n",
    "        print(f\"Posición {num} - Valor {fibonacci(num)}\")\n",
    "\n",
    "print(\"\")\n",
    "print(f\"Serie de Fibonacci completa hasta la posición {user_num}: \")\n",
    "mostrar_serie(user_num)"
   ]
  },
  {
   "cell_type": "markdown",
   "metadata": {},
   "source": [
    "**3)** Crea una función recursiva que calcule la potencia de un número base elevado a un exponente, utilizando la fórmula 𝑛𝑚= 𝑛∗𝑛(𝑚−1). Prueba esta función en un algoritmo general."
   ]
  },
  {
   "cell_type": "code",
   "execution_count": null,
   "metadata": {},
   "outputs": [],
   "source": [
    "def potencia(base,expo):\n",
    "    if expo == 0: # todo nro elevado a la 0 (cero) da 1\n",
    "        return 1\n",
    "    else:\n",
    "        return base * potencia(base, expo - 1)\n",
    "\n",
    "base = int(input(\"Ingresa la base: \"))\n",
    "expo = int(input(\"Ingresa el exponente: \"))\n",
    "\n",
    "print(f\"Dado la base {base} y exponente {expo}, su potencia da {potencia(base,expo)}\")"
   ]
  },
  {
   "cell_type": "markdown",
   "metadata": {},
   "source": [
    "**4)** Crear una función recursiva en Python que reciba un número entero positivo en base decimal y devuelva su representación en binario como una cadena de texto."
   ]
  },
  {
   "cell_type": "code",
   "execution_count": null,
   "metadata": {},
   "outputs": [],
   "source": [
    "def dectobin(num):\n",
    "    if num <= 1:    # si el nro es 0 o 1, su version binaria es identica\n",
    "        return str(num)\n",
    "    else:\n",
    "        return dectobin(num // 2) + str(num % 2)\n",
    "    \n",
    "num = int(input(\"Ingresa un número entero positivo en base decimal: \"))\n",
    "print(f\"La representación en binario del nro entero decimal {num} es {dectobin(num)}\")"
   ]
  },
  {
   "cell_type": "markdown",
   "metadata": {},
   "source": [
    "Cuando representamos un número en binario, lo expresamos usando solamente ceros (0) y unos (1), en base 2. Para convertir un número decimal a binario, se puede seguir este procedimiento:\n",
    "1. Dividir el número por 2.\n",
    "2. Guardar el resto (0 o 1).\n",
    "3. Repetir el proceso con el cociente hasta que llegue a 0.\n",
    "4. Los restos obtenidos, leídos de abajo hacia arriba, forman el número binario.\n",
    "\n",
    "Ejemplo:\n",
    "Convertir el número 10 a binario:\n",
    "- 10 ÷ 2 = 5 resto: 0\n",
    "- 5 ÷ 2 = 2 resto: 1\n",
    "- 2 ÷ 2 = 1 resto: 0\n",
    "- 1 ÷ 2 = 0 resto: 1\n",
    "Leyendo los restos de abajo hacia arriba: 1 0 1 0 → El resultado binario es \"1010\"."
   ]
  },
  {
   "cell_type": "markdown",
   "metadata": {},
   "source": [
    "**5)** Implementá una función recursiva llamada es_palindromo(palabra) que reciba una cadena de texto sin espacios ni tildes, y devuelva True si es un palíndromo o False si no lo es.\n",
    "Requisitos:\n",
    "- La solución debe ser recursiva.\n",
    "- No se debe usar [::-1] ni la función reversed()."
   ]
  },
  {
   "cell_type": "code",
   "execution_count": null,
   "metadata": {},
   "outputs": [
    {
     "data": {
      "text/plain": [
       "True"
      ]
     },
     "execution_count": 9,
     "metadata": {},
     "output_type": "execute_result"
    }
   ],
   "source": [
    "def es_palindromo(palabra):\n",
    "    if len(palabra) <= 1:           \n",
    "        return True\n",
    "    if palabra[0] != palabra[-1]:\n",
    "        return False\n",
    "    return es_palindromo(palabra[1:-1])\n",
    "\n",
    "es_palindromo(\"turin\")\n",
    "es_palindromo(\"menem\")"
   ]
  },
  {
   "cell_type": "markdown",
   "metadata": {},
   "source": [
    "**6)** Escribí una función recursiva en Python llamada suma_digitos(n) que reciba un número entero positivo y devuelva la suma de todos sus dígitos.\n",
    "\n",
    "Restricciones:\n",
    "- No se puede convertir el número a string.\n",
    "- Usá operaciones matemáticas (%, //) y recursión.\n",
    "\n",
    "Ejemplos:\n",
    "- suma_digitos(1234) → 10 (1 + 2 + 3 + 4)\n",
    "- suma_digitos(9) → 9\n",
    "- suma_digitos(305) → 8 (3 + 0 + 5)"
   ]
  },
  {
   "cell_type": "code",
   "execution_count": null,
   "metadata": {},
   "outputs": [
    {
     "name": "stdout",
     "output_type": "stream",
     "text": [
      "La suma de los dígitos del nro 27 da 9\n"
     ]
    }
   ],
   "source": [
    "def suma_digitos(n):\n",
    "    if n < 10:          # caso base\n",
    "        return n\n",
    "    else:               # toma el último digito (n % 10) y lo suma al resultado de la recursiva\n",
    "        return n % 10 + suma_digitos(n // 10)\n",
    "    \n",
    "n = int(input(\"Ingresa un nro entero positivo: \"))\n",
    "print(f\"La suma de los dígitos del nro {n} da {suma_digitos(n)}\")"
   ]
  },
  {
   "cell_type": "markdown",
   "metadata": {},
   "source": [
    "**7)** Un niño está construyendo una pirámide con bloques. En el nivel más bajo coloca n bloques, en el siguiente nivel uno menos (n - 1), y así sucesivamente hasta llegar al último nivel con un solo bloque.\n",
    "Escribí una función recursiva contar_bloques(n) que reciba el número de bloques en el nivel más bajo y devuelva el total de bloques que necesita para construir toda la pirámide.\n",
    "\n",
    "Ejemplos:\n",
    "- contar_bloques(1) → 1 (1)\n",
    "- contar_bloques(2) → 3 (2 + 1)\n",
    "- contar_bloques(4) → 10 (4 + 3 + 2 + 1)"
   ]
  },
  {
   "cell_type": "code",
   "execution_count": null,
   "metadata": {},
   "outputs": [
    {
     "name": "stdout",
     "output_type": "stream",
     "text": [
      "El total que precisás para construir toda la pirámide es 36: 8 + 7 + 6 + 5 + 4 + 3 + 2 + 1\n"
     ]
    }
   ],
   "source": [
    "niveles = []\n",
    "def contar_bloques(n):\n",
    "    niveles.append(n)\n",
    "    if n == 1:  # caso base\n",
    "        return 1\n",
    "    else:       # resta \"n\" al resultado de la recursiva\n",
    "        return n + contar_bloques(n - 1)\n",
    "base = int(input(\"Ingresa el nro de bloques en el nivel más bajo: \"))\n",
    "\n",
    "# imprimimos detalle de filas\n",
    "print(f\"El total que precisás para construir toda la pirámide es {contar_bloques(base)}:\", end=\" \")\n",
    "for i in range(len(niveles)):\n",
    "    if i < len(niveles) - 1:\n",
    "        print(niveles[i], end=\" + \")\n",
    "    else:\n",
    "        print(niveles[i])"
   ]
  },
  {
   "cell_type": "markdown",
   "metadata": {},
   "source": [
    "**8)** Escribí una función recursiva llamada contar_digito(numero, digito) que reciba un número entero positivo (numero) y un dígito (entre 0 y 9), y devuelva cuántas veces aparece ese dígito dentro del número.\n",
    "\n",
    "Ejemplos:\n",
    "- contar_digito(12233421, 2) → 3\n",
    "- contar_digito(5555, 5) → 4\n",
    "- contar_digito(123456, 7) → 0"
   ]
  },
  {
   "cell_type": "code",
   "execution_count": 57,
   "metadata": {},
   "outputs": [
    {
     "name": "stdout",
     "output_type": "stream",
     "text": [
      "El dígito 2 aparece 3 veces en el número 12233421.\n"
     ]
    }
   ],
   "source": [
    "def contar_digito(numero, digito):\n",
    "    if numero == 0:                     # caso base\n",
    "        return 1 if digito == 0 else 0 \n",
    "    else:\n",
    "        ultimo = numero % 10                                # se obtiene el ultimo digito del nro\n",
    "        if ultimo == digito:                                # si el ultimo digito del nro es igual al digito que indicamos, suma 1 al resultado de la recursiva\n",
    "            return 1 + contar_digito(numero // 10, digito)\n",
    "        else:                                               # si no coincide, continua con la recursion\n",
    "            return contar_digito(numero // 10, digito)\n",
    "\n",
    "#contar_digito(45,4)\n",
    "\n",
    "num = int(input(\"Ingresa un nro entero positivo: \"))\n",
    "dig = int(input(\"Ingresa el digito a buscar: \"))\n",
    "\n",
    "print(f\"El dígito {dig} aparece {contar_digito(num,dig)} veces en el número {num}.\")"
   ]
  }
 ],
 "metadata": {
  "kernelspec": {
   "display_name": "Python 3",
   "language": "python",
   "name": "python3"
  },
  "language_info": {
   "codemirror_mode": {
    "name": "ipython",
    "version": 3
   },
   "file_extension": ".py",
   "mimetype": "text/x-python",
   "name": "python",
   "nbconvert_exporter": "python",
   "pygments_lexer": "ipython3",
   "version": "3.11.9"
  }
 },
 "nbformat": 4,
 "nbformat_minor": 2
}
