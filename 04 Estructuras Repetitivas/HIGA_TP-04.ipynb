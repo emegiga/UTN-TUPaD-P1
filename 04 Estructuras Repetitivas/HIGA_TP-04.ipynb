{
 "cells": [
  {
   "cell_type": "markdown",
   "metadata": {},
   "source": [
    "**1)** Crea un programa que imprima en pantalla todos los números enteros desde 0 hasta 100 (incluyendo ambos extremos), en orden creciente, mostrando un número por línea"
   ]
  },
  {
   "cell_type": "code",
   "execution_count": null,
   "metadata": {},
   "outputs": [],
   "source": [
    "for num in range(101):\n",
    "    print(num)"
   ]
  },
  {
   "cell_type": "markdown",
   "metadata": {},
   "source": [
    "**2)** Desarrolla un programa que solicite al usuario un número entero y determine la cantidad de dígitos que contiene."
   ]
  },
  {
   "cell_type": "code",
   "execution_count": null,
   "metadata": {},
   "outputs": [],
   "source": [
    "num = int(input(\"Ingresa un número entero: \"))\n",
    "\n",
    "# validamos que el valor ingresado sea un nro entero\n",
    "while num <= 0:\n",
    "    num = int(input(\"Has ingresado un valor incorrecto. Por favor, ingresa un número entero: \"))\n",
    "\n",
    "print(f\"El número entero ingresado ({num}) tiene {len(str(num))} dígitos.\")"
   ]
  },
  {
   "cell_type": "markdown",
   "metadata": {},
   "source": [
    "**3)** Escribe un programa que sume todos los números enteros comprendidos entre dos valores dados por el usuario, excluyendo esos dos valores."
   ]
  },
  {
   "cell_type": "code",
   "execution_count": null,
   "metadata": {},
   "outputs": [],
   "source": [
    "num1 = int(input(\"Ingresa el 1er número: \"))\n",
    "num2 = int(input(\"Ingresa el 2do número: \"))\n",
    "sumador = 0\n",
    "\n",
    "# validamos los nros ingresados\n",
    "while num1 <= 0:\n",
    "    num1 = int(input(\"Has ingresado un valor incorrecto. Por favor, ingresa un número entero: \"))\n",
    "while num2 <= 0:\n",
    "    num2 = int(input(\"Has ingresado un valor incorrecto. Por favor, ingresa un número entero: \"))\n",
    "\n",
    "for num in range(num1 + 1, num2):\n",
    "    sumador = sumador + num\n",
    "\n",
    "print(\"La suma total de los nros comprendidos entre los valores dados es de \", sumador)"
   ]
  },
  {
   "cell_type": "markdown",
   "metadata": {},
   "source": [
    "**4)** Elabora un programa que permita al usuario ingresar números enteros y los sume en secuencia. El programa debe detenerse y mostrar el total acumulado cuando el usuario ingrese un 0."
   ]
  },
  {
   "cell_type": "code",
   "execution_count": null,
   "metadata": {},
   "outputs": [],
   "source": [
    "print(\"*** SUMADOR SECUENCIAL V1.00 ***\")\n",
    "print(\"--------------------------------\")\n",
    "\n",
    "num = int(input(\"Ingresa un número entero: \"))\n",
    "total = 0\n",
    "\n",
    "while num != 0:\n",
    "    total += num\n",
    "    num = int(input(\"Ingresa otro número entero (ingresa 0 para terminar): \"))\n",
    "\n",
    "print(\"El total acumulado es \", total)"
   ]
  },
  {
   "cell_type": "markdown",
   "metadata": {},
   "source": [
    "**5)** Crea un juego en el que el usuario deba adivinar un número aleatorio entre 0 y 9. Al final, el programa debe mostrar cuántos intentos fueron necesarios para acertar el número."
   ]
  },
  {
   "cell_type": "code",
   "execution_count": null,
   "metadata": {},
   "outputs": [],
   "source": [
    "import random\n",
    "\n",
    "# importamos random y usamos el método randint para generar el nro aleatorio\n",
    "num = random.randint(0,9)\n",
    "print(num)\n",
    "\n",
    "# contador de intentos\n",
    "intento = 1\n",
    "\n",
    "print(\"Adivina el número! Es un nro entero aleatorio entre 0 y 9.\")\n",
    "guess = int(input(\"Ingresa un número entero: \"))\n",
    "\n",
    "while guess != num:\n",
    "    guess = int(input(\"INCORRECTO!!!! Ingresa otro número entero: \"))\n",
    "    intento += 1\n",
    "\n",
    "print(f\"Has acertado!! El número era {guess}. Te tomó {intento} intentos adivinarlo.\")"
   ]
  },
  {
   "cell_type": "markdown",
   "metadata": {},
   "source": [
    "**6)** Desarrolla un programa que imprima en pantalla todos los números pares comprendidos entre 0 y 100, en orden decreciente."
   ]
  },
  {
   "cell_type": "code",
   "execution_count": null,
   "metadata": {},
   "outputs": [],
   "source": [
    "for num in range(101,0,-2):\n",
    "    print(num)"
   ]
  },
  {
   "cell_type": "markdown",
   "metadata": {},
   "source": [
    "**7)** Crea un programa que calcule la suma de todos los números comprendidos entre 0 y un número entero positivo indicado por el usuario."
   ]
  },
  {
   "cell_type": "code",
   "execution_count": null,
   "metadata": {},
   "outputs": [],
   "source": [
    "num = int(input(\"Ingresa un número entero positivo mayor a cero (0): \"))\n",
    "sumador = 0\n",
    "\n",
    "# validamos que el nro ingresado sea mayor a cero\n",
    "while num <= 0:\n",
    "     num = int(input(\"El valor ingresado es incorrecto. Ingresa un número entero positivo mayor a cero (0): \"))\n",
    "\n",
    "for i in range(0,num + 1):\n",
    "     sumador += i\n",
    "\n",
    "print(f\"La suma de los números comprendidos entre 0 y {num} (inclusive) da {sumador}\")"
   ]
  },
  {
   "cell_type": "markdown",
   "metadata": {},
   "source": [
    "**8)** Escribe un programa que permita al usuario ingresar 100 números enteros. Luego, el programa debe indicar cuántos de estos números son pares, cuántos son impares, cuántos son negativos y cuántos son positivos. (Nota: para probar el programa puedes usar una cantidad menor, pero debe estar preparado para procesar 100 números con un solo cambio)."
   ]
  },
  {
   "cell_type": "code",
   "execution_count": null,
   "metadata": {},
   "outputs": [],
   "source": [
    "# contadores: \n",
    "total_pares = 0\n",
    "total_impares = 0\n",
    "total_neg = 0\n",
    "total_pos = 0\n",
    "num = 0\n",
    "\n",
    "for i in range(1,101):\n",
    "    num = int(input(f\"N°{i} - Ingresa un nro entero: \"))\n",
    "\n",
    "    # acumulamos pares e impares\n",
    "    if num % 2 == 0:\n",
    "        total_pares += 1\n",
    "    else:\n",
    "        total_impares += 1\n",
    "\n",
    "    # acumulamos positivos y negativos\n",
    "    if num >= 0:\n",
    "        total_pos += 1\n",
    "    else:\n",
    "        total_neg += 1\n",
    "\n",
    "print(f\"Has ingresado {total_pares} nros pares, {total_impares} impares, {total_pos} positivos y {total_neg} negativos.\")"
   ]
  },
  {
   "cell_type": "markdown",
   "metadata": {},
   "source": [
    "**9)** Elabora un programa que permita al usuario ingresar 100 números enteros y luego calcule la media de esos valores. (Nota: puedes probar el programa con una cantidad menor, pero debe poder procesar 100 números cambiando solo un valor)"
   ]
  },
  {
   "cell_type": "code",
   "execution_count": null,
   "metadata": {},
   "outputs": [
    {
     "name": "stdout",
     "output_type": "stream",
     "text": [
      "La suma de los 5 nros ingresados da 20.\n",
      "El promedio de los nros ingresados es de 4.0\n"
     ]
    }
   ],
   "source": [
    "sumador = 0\n",
    "\n",
    "for i in range(1,101):\n",
    "    num = int(input(\"Ingresa un nro entero: \"))\n",
    "    sumador = sumador + num\n",
    "\n",
    "print(f\"La suma de los {i} nros ingresados da {sumador}.\")\n",
    "print(f\"El promedio de los nros ingresados es de {sumador/i}\")\n"
   ]
  },
  {
   "cell_type": "markdown",
   "metadata": {},
   "source": [
    "**10.** Escribe un programa que invierta el orden de los dígitos de un número ingresado por el usuario. Ejemplo: si el usuario ingresa 547, el programa debe mostrar 745."
   ]
  },
  {
   "cell_type": "code",
   "execution_count": null,
   "metadata": {},
   "outputs": [],
   "source": [
    "num = int(input(\"Ingresa un número positivo: \"))\n",
    "inverso = \"\"\n",
    "\n",
    "# validamos que el nro ingresado sea mayor a cero\n",
    "while num <= 0:\n",
    "     num = int(input(\"El valor ingresado es incorrecto. Ingresa un número entero positivo mayor a cero (0): \"))\n",
    "\n",
    "\n",
    "# usamos un bucle para recorrer la variable, cambiando su tipo a str\n",
    "for digito in str(num):\n",
    "     inverso = digito + inverso    # guardamos digito por digito en la variable. El acumulador va agregando delante cada digito a medida que el bucle avanza\n",
    "\n",
    "print(inverso)"
   ]
  }
 ],
 "metadata": {
  "kernelspec": {
   "display_name": "Python 3",
   "language": "python",
   "name": "python3"
  },
  "language_info": {
   "codemirror_mode": {
    "name": "ipython",
    "version": 3
   },
   "file_extension": ".py",
   "mimetype": "text/x-python",
   "name": "python",
   "nbconvert_exporter": "python",
   "pygments_lexer": "ipython3",
   "version": "3.11.9"
  }
 },
 "nbformat": 4,
 "nbformat_minor": 2
}
