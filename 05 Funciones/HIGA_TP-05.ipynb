{
 "cells": [
  {
   "cell_type": "markdown",
   "metadata": {},
   "source": [
    "**1)** Crear una función llamada imprimir_hola_mundo que imprima por pantalla el mensaje: “Hola Mundo!”. Llamar a esta función desde el programa principal."
   ]
  },
  {
   "cell_type": "code",
   "execution_count": 1,
   "metadata": {},
   "outputs": [
    {
     "name": "stdout",
     "output_type": "stream",
     "text": [
      "Hola Mundo!\n"
     ]
    }
   ],
   "source": [
    "def imprimir_hola_mundo():\n",
    "    print(\"Hola Mundo!\")\n",
    "    \n",
    "imprimir_hola_mundo()"
   ]
  },
  {
   "cell_type": "markdown",
   "metadata": {},
   "source": [
    "**2)** Crear una función llamada saludar_usuario(nombre) que reciba como parámetro un nombre y devuelva un saludo personalizado.\n",
    "Por ejemplo, si se llama con saludar_usuario(\"Marcos\"), deberá devolver: “Hola Marcos!”. Llamar a esta función desde el programa principal solicitando el nombre al usuario."
   ]
  },
  {
   "cell_type": "code",
   "execution_count": 2,
   "metadata": {},
   "outputs": [
    {
     "name": "stdout",
     "output_type": "stream",
     "text": [
      "Hola, Tito\n"
     ]
    }
   ],
   "source": [
    "def saludar_usuario(nombre):\n",
    "    print(f\"Hola, {nombre}\")\n",
    "\n",
    "saludar_usuario(input(\"Ingresa tu nombre: \"))\n"
   ]
  },
  {
   "cell_type": "markdown",
   "metadata": {},
   "source": [
    "**3)** Crear una función llamada informacion_personal(nombre, apellido, edad, residencia) que reciba cuatro parámetros e imprima: “Soy [nombre] [apellido], tengo [edad] años y vivo en [residencia]”. Pedir los datos al usuario y llamar a esta función con los valores ingresados."
   ]
  },
  {
   "cell_type": "code",
   "execution_count": 49,
   "metadata": {},
   "outputs": [
    {
     "name": "stdout",
     "output_type": "stream",
     "text": [
      "Soy Jimi Hendrix, tengo 27 años y vivo en CABA\n"
     ]
    }
   ],
   "source": [
    "def informacion_personal(nombre, apellido, edad, residencia):\n",
    "    print(f\"Soy {nombre} {apellido}, tengo {edad} años y vivo en {residencia}\")\n",
    "\n",
    "nom = input(\"Ingresa tu nombre: \")\n",
    "ape = input(\"Ingresa tu apellido: \")\n",
    "\n",
    "age = input(\"Ingresa tu edad: \")\n",
    "while not age.isdigit() or int(age) < 1:\n",
    "    age = input(\"Error. Ingresa un número entero positivo para tu edad: \")\n",
    "\n",
    "res = input(\"Ingresa tu localidad: \")\n",
    "\n",
    "informacion_personal(nom, ape, int(age), res)"
   ]
  },
  {
   "cell_type": "markdown",
   "metadata": {},
   "source": [
    "**4)** Crear dos funciones: calcular_area_circulo(radio) que reciba el radio como parámetro y devuelva el área del círculo. calcular_perimetro_ circulo(radio) que reciba el radio como parámetro y devuelva el perímetro del círculo. Solicitar el radio al usuario y llamar ambas funciones para mostrar los resultados."
   ]
  },
  {
   "cell_type": "code",
   "execution_count": 57,
   "metadata": {},
   "outputs": [
    {
     "name": "stdout",
     "output_type": "stream",
     "text": [
      "Dado el radio 15, el area del ciculo es 706.86 y el perimetro 94.25.\n"
     ]
    }
   ],
   "source": [
    "import math\n",
    "\n",
    "def calcular_area_circulo(r):\n",
    "    return math.pi * r ** 2\n",
    "\n",
    "def calcular_perimetro_circulo(r):\n",
    "    return math.pi * 2* r\n",
    "\n",
    "radio = input(\"Ingresa el radio: \")\n",
    "while not radio.isdigit() or float(radio) < 1:\n",
    "    radio = input(\"Error. Ingresa un número entero positivo para los segundos: \")\n",
    "\n",
    "print(f\"Dado el radio {radio}, el area del ciculo es {(calcular_area_circulo(float(radio))):.2f} y el perimetro {(calcular_perimetro_circulo(float(radio))):.2f}.\")"
   ]
  },
  {
   "cell_type": "markdown",
   "metadata": {},
   "source": [
    "**5)** Crear una función llamada segundos_a_horas(segundos) que reciba una cantidad de segundos como parámetro y devuelva la cantidad de horas correspondientes. Solicitar al usuario los segundos y mostrar el resultado usando esta función."
   ]
  },
  {
   "cell_type": "code",
   "execution_count": 42,
   "metadata": {},
   "outputs": [
    {
     "name": "stdout",
     "output_type": "stream",
     "text": [
      "5452124 segundos equivalen a 1514 horas, 28 minutos, 44 segundos.\n"
     ]
    }
   ],
   "source": [
    "def segundos_a_horas(segundos):\n",
    "    hor = segundos // 3600\n",
    "    seg_restante = segundos % 3600\n",
    "    min = seg_restante // 60\n",
    "    seg = seg_restante % 60\n",
    "    print(f\"{segundos} segundos equivalen a {hor} horas, {min} minutos, {seg} segundos.\")\n",
    "\n",
    "segs = input(\"Ingresa los segundos: \")\n",
    "while not segs.isdigit() or int(segs) < 1:\n",
    "    segs = input(\"Error. Ingresa un número entero positivo para los segundos: \")\n",
    "\n",
    "segundos_a_horas(int(segs))"
   ]
  },
  {
   "cell_type": "markdown",
   "metadata": {},
   "source": [
    "**6)** Crear una función llamada tabla_multiplicar(numero) que reciba un número como parámetro y imprima la tabla de multiplicar de ese número del 1 al 10. Pedir al usuario el número y llamar a la función."
   ]
  },
  {
   "cell_type": "code",
   "execution_count": 32,
   "metadata": {},
   "outputs": [
    {
     "name": "stdout",
     "output_type": "stream",
     "text": [
      "Has ingresado el número 5. A continuación, su tabla de multiplicar del 1 al 10: \n",
      "5 x 1 = 5\n",
      "5 x 2 = 10\n",
      "5 x 3 = 15\n",
      "5 x 4 = 20\n",
      "5 x 5 = 25\n",
      "5 x 6 = 30\n",
      "5 x 7 = 35\n",
      "5 x 8 = 40\n",
      "5 x 9 = 45\n",
      "5 x 10 = 50\n"
     ]
    }
   ],
   "source": [
    "def tabla_multiplicar(num):\n",
    "    print(f\"Has ingresado el número {num}. A continuación, su tabla de multiplicar del 1 al 10: \")\n",
    "    for i in range(1,11):\n",
    "        print(f\"{num} x {i} = {i * num}\")\n",
    "\n",
    "numero = input(\"Ingresa un número entero positivo: \")\n",
    "while not numero.isdigit() or int(numero) < 1:\n",
    "    numero = input(\"Error. Ingresa un número entero positivo: \")\n",
    "\n",
    "tabla_multiplicar(int(numero))"
   ]
  },
  {
   "cell_type": "markdown",
   "metadata": {},
   "source": [
    "**7)** Crear una función llamada operaciones_basicas(a, b) que reciba dos números como parámetros y devuelva una tupla con el resultado de sumarlos, restarlos, multiplicarlos y dividirlos. Mostrar los resultados de forma clara."
   ]
  },
  {
   "cell_type": "code",
   "execution_count": 38,
   "metadata": {},
   "outputs": [
    {
     "name": "stdout",
     "output_type": "stream",
     "text": [
      "Suma: 15\n",
      "Resta: 5\n",
      "Multiplicación: 50\n",
      "División: 2.0\n"
     ]
    }
   ],
   "source": [
    "def operaciones_basicas(n1, n2):\n",
    "    suma = n1 + n2\n",
    "    resta = n1 - n2\n",
    "    multi = n1 * n2\n",
    "    divi = n1 / n2\n",
    "    return suma, resta, multi, divi\n",
    "\n",
    "# llamamos a la funcion dentro de la variable. Con esto, podemos maniuplar luego la tupla que devuelve la función\n",
    "resultado = operaciones_basicas(10, 5)\n",
    "\n",
    "# imprimimos cada valor de la tupla por separado\n",
    "print(\"Suma:\", resultado[0])\n",
    "print(\"Resta:\", resultado[1])\n",
    "print(\"Multiplicación:\", resultado[2])\n",
    "print(\"División:\", resultado[3])"
   ]
  },
  {
   "cell_type": "markdown",
   "metadata": {},
   "source": [
    "**8)** Crear una función llamada calcular_imc(peso, altura) que reciba el peso en kilogramos y la altura en metros, y devuelva el índice de masa corporal (IMC). Solicitar al usuario los datos y llamar a la función para mostrar el resultado con dos decimales"
   ]
  },
  {
   "cell_type": "code",
   "execution_count": 79,
   "metadata": {},
   "outputs": [
    {
     "name": "stdout",
     "output_type": "stream",
     "text": [
      "Peso: 127 kgs. Altura: 174 mts. El IMC es de 41.95.\n"
     ]
    }
   ],
   "source": [
    "def calcular_imc(peso, altura_en_cms):\n",
    "    altura_en_mts = altura_en_cms / 100         # convertimos la altura a metros\n",
    "    return peso / (altura_en_mts * altura_en_mts)\n",
    "\n",
    "peso = input(\"Ingresa peso (en kgs): \")\n",
    "while not peso.isdigit() or float(peso) < 1:\n",
    "    peso = input(\"Error. Ingresa un valor correcto para el peso (ej: 89.6): \")\n",
    "\n",
    "altura = input(\"Ingresa altura (en centímetros): \")\n",
    "while not altura.isdigit() or float(altura) < 1:\n",
    "    altura = input(\"Error. Ingresa un valor correcto para la altura, en centímeros (ej: 174)\")\n",
    "\n",
    "resultado = calcular_imc(float(peso), float(altura))\n",
    "\n",
    "print(f\"Peso: {peso} kgs. Altura: {altura} mts. El IMC es de {resultado:.2f}.\")"
   ]
  },
  {
   "cell_type": "markdown",
   "metadata": {},
   "source": [
    "**9)** Crear una función llamada celsius_a_fahrenheit(celsius) que reciba una temperatura en grados Celsius y devuelva su equivalente en Fahrenheit. Pedir al usuario la temperatura en Celsius y mostrar el resultado usando la función."
   ]
  },
  {
   "cell_type": "code",
   "execution_count": null,
   "metadata": {},
   "outputs": [],
   "source": [
    "\n",
    "def celsius_a_fahrenheit(temp):\n",
    "    fahrenheit = (temp * (9/5)) + 32\n",
    "    return fahrenheit\n",
    "\n",
    "temp_celsius = float(input(\"Ingresa la temperatura en grados Celsius: \"))\n",
    "\n",
    "print(f\"{temp_celsius}°C equivalen a {celsius_a_fahrenheit(float(temp_celsius))}°F\")    "
   ]
  },
  {
   "cell_type": "markdown",
   "metadata": {},
   "source": [
    "**10.** Crear una función llamada calcular_promedio(a, b, c) que reciba tres números como parámetros y devuelva el promedio de ellos.\n",
    "Solicitar los números al usuario y mostrar el resultado usando esta función."
   ]
  },
  {
   "cell_type": "code",
   "execution_count": 78,
   "metadata": {},
   "outputs": [
    {
     "name": "stdout",
     "output_type": "stream",
     "text": [
      "Dadas las notas 5.00, 7.00 y 9.00, el promedio del alumno es de 7.00\n"
     ]
    }
   ],
   "source": [
    "def calcular_promedio(n1, n2, n3):\n",
    "    promedio = (n1 + n2 + n3) / 3\n",
    "    print(f\"Dadas las notas {n1:.2f}, {n2:.2f} y {n3:.2f}, el promedio del alumno es de {promedio:.2f}\")\n",
    "\n",
    "nota1 = input(\"Ingresa la 1era nota: \")\n",
    "nota2 = input(\"Ingresa la 2da nota: \")\n",
    "nota3 = input(\"Ingresa la 3era nota: \")\n",
    "while not nota1.isdigit() or not nota2.isdigit() or not nota3.isdigit():\n",
    "    print(\"Error. Una de las notas ingresadas es incorrecta. Ingresa las notas nuevamente: \")\n",
    "    nota1 = input(\"Ingresa la 1era nota: \")\n",
    "    nota2 = input(\"Ingresa la 2da nota: \")\n",
    "    nota3 = input(\"Ingresa la 3era nota: \")\n",
    "\n",
    "calcular_promedio(int(nota1), int(nota2), int(nota3))"
   ]
  }
 ],
 "metadata": {
  "kernelspec": {
   "display_name": "Python 3",
   "language": "python",
   "name": "python3"
  },
  "language_info": {
   "codemirror_mode": {
    "name": "ipython",
    "version": 3
   },
   "file_extension": ".py",
   "mimetype": "text/x-python",
   "name": "python",
   "nbconvert_exporter": "python",
   "pygments_lexer": "ipython3",
   "version": "3.11.9"
  }
 },
 "nbformat": 4,
 "nbformat_minor": 2
}
